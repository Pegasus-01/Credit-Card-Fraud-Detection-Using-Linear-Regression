{
  "nbformat": 4,
  "nbformat_minor": 0,
  "metadata": {
    "colab": {
      "name": "Credit Card Fraud Detection.ipynb",
      "provenance": []
    },
    "kernelspec": {
      "name": "python3",
      "display_name": "Python 3"
    },
    "language_info": {
      "name": "python"
    }
  },
  "cells": [
    {
      "cell_type": "code",
      "metadata": {
        "id": "rRPxN3y_HvMt"
      },
      "source": [
        "import numpy as np"
      ],
      "execution_count": 1,
      "outputs": []
    },
    {
      "cell_type": "code",
      "metadata": {
        "id": "V27tDmcJh2Pf"
      },
      "source": [
        "import pandas as pd\n",
        "from sklearn.model_selection import train_test_split\n",
        "from sklearn.linear_model import LogisticRegression\n",
        "from sklearn.metrics import accuracy_score"
      ],
      "execution_count": 2,
      "outputs": []
    },
    {
      "cell_type": "code",
      "metadata": {
        "id": "RNaV_N1Ch8Z2"
      },
      "source": [
        "# loading the dataset to a Pandas DataFrame\n",
        "credit_card_data = pd.read_csv('/content/creditcard.csv')"
      ],
      "execution_count": 3,
      "outputs": []
    },
    {
      "cell_type": "code",
      "metadata": {
        "colab": {
          "base_uri": "https://localhost:8080/",
          "height": 223
        },
        "id": "eLmNmssQiHcH",
        "outputId": "bc26b875-2937-4b68-c208-da92b7fcec9b"
      },
      "source": [
        "# first 5 rows of the dataset\n",
        "credit_card_data.head()"
      ],
      "execution_count": 4,
      "outputs": [
        {
          "output_type": "execute_result",
          "data": {
            "text/html": [
              "<div>\n",
              "<style scoped>\n",
              "    .dataframe tbody tr th:only-of-type {\n",
              "        vertical-align: middle;\n",
              "    }\n",
              "\n",
              "    .dataframe tbody tr th {\n",
              "        vertical-align: top;\n",
              "    }\n",
              "\n",
              "    .dataframe thead th {\n",
              "        text-align: right;\n",
              "    }\n",
              "</style>\n",
              "<table border=\"1\" class=\"dataframe\">\n",
              "  <thead>\n",
              "    <tr style=\"text-align: right;\">\n",
              "      <th></th>\n",
              "      <th>Time</th>\n",
              "      <th>V1</th>\n",
              "      <th>V2</th>\n",
              "      <th>V3</th>\n",
              "      <th>V4</th>\n",
              "      <th>V5</th>\n",
              "      <th>V6</th>\n",
              "      <th>V7</th>\n",
              "      <th>V8</th>\n",
              "      <th>V9</th>\n",
              "      <th>V10</th>\n",
              "      <th>V11</th>\n",
              "      <th>V12</th>\n",
              "      <th>V13</th>\n",
              "      <th>V14</th>\n",
              "      <th>V15</th>\n",
              "      <th>V16</th>\n",
              "      <th>V17</th>\n",
              "      <th>V18</th>\n",
              "      <th>V19</th>\n",
              "      <th>V20</th>\n",
              "      <th>V21</th>\n",
              "      <th>V22</th>\n",
              "      <th>V23</th>\n",
              "      <th>V24</th>\n",
              "      <th>V25</th>\n",
              "      <th>V26</th>\n",
              "      <th>V27</th>\n",
              "      <th>V28</th>\n",
              "      <th>Amount</th>\n",
              "      <th>Class</th>\n",
              "    </tr>\n",
              "  </thead>\n",
              "  <tbody>\n",
              "    <tr>\n",
              "      <th>0</th>\n",
              "      <td>0</td>\n",
              "      <td>-1.359807</td>\n",
              "      <td>-0.072781</td>\n",
              "      <td>2.536347</td>\n",
              "      <td>1.378155</td>\n",
              "      <td>-0.338321</td>\n",
              "      <td>0.462388</td>\n",
              "      <td>0.239599</td>\n",
              "      <td>0.098698</td>\n",
              "      <td>0.363787</td>\n",
              "      <td>0.090794</td>\n",
              "      <td>-0.551600</td>\n",
              "      <td>-0.617801</td>\n",
              "      <td>-0.991390</td>\n",
              "      <td>-0.311169</td>\n",
              "      <td>1.468177</td>\n",
              "      <td>-0.470401</td>\n",
              "      <td>0.207971</td>\n",
              "      <td>0.025791</td>\n",
              "      <td>0.403993</td>\n",
              "      <td>0.251412</td>\n",
              "      <td>-0.018307</td>\n",
              "      <td>0.277838</td>\n",
              "      <td>-0.110474</td>\n",
              "      <td>0.066928</td>\n",
              "      <td>0.128539</td>\n",
              "      <td>-0.189115</td>\n",
              "      <td>0.133558</td>\n",
              "      <td>-0.021053</td>\n",
              "      <td>149.62</td>\n",
              "      <td>0.0</td>\n",
              "    </tr>\n",
              "    <tr>\n",
              "      <th>1</th>\n",
              "      <td>0</td>\n",
              "      <td>1.191857</td>\n",
              "      <td>0.266151</td>\n",
              "      <td>0.166480</td>\n",
              "      <td>0.448154</td>\n",
              "      <td>0.060018</td>\n",
              "      <td>-0.082361</td>\n",
              "      <td>-0.078803</td>\n",
              "      <td>0.085102</td>\n",
              "      <td>-0.255425</td>\n",
              "      <td>-0.166974</td>\n",
              "      <td>1.612727</td>\n",
              "      <td>1.065235</td>\n",
              "      <td>0.489095</td>\n",
              "      <td>-0.143772</td>\n",
              "      <td>0.635558</td>\n",
              "      <td>0.463917</td>\n",
              "      <td>-0.114805</td>\n",
              "      <td>-0.183361</td>\n",
              "      <td>-0.145783</td>\n",
              "      <td>-0.069083</td>\n",
              "      <td>-0.225775</td>\n",
              "      <td>-0.638672</td>\n",
              "      <td>0.101288</td>\n",
              "      <td>-0.339846</td>\n",
              "      <td>0.167170</td>\n",
              "      <td>0.125895</td>\n",
              "      <td>-0.008983</td>\n",
              "      <td>0.014724</td>\n",
              "      <td>2.69</td>\n",
              "      <td>0.0</td>\n",
              "    </tr>\n",
              "    <tr>\n",
              "      <th>2</th>\n",
              "      <td>1</td>\n",
              "      <td>-1.358354</td>\n",
              "      <td>-1.340163</td>\n",
              "      <td>1.773209</td>\n",
              "      <td>0.379780</td>\n",
              "      <td>-0.503198</td>\n",
              "      <td>1.800499</td>\n",
              "      <td>0.791461</td>\n",
              "      <td>0.247676</td>\n",
              "      <td>-1.514654</td>\n",
              "      <td>0.207643</td>\n",
              "      <td>0.624501</td>\n",
              "      <td>0.066084</td>\n",
              "      <td>0.717293</td>\n",
              "      <td>-0.165946</td>\n",
              "      <td>2.345865</td>\n",
              "      <td>-2.890083</td>\n",
              "      <td>1.109969</td>\n",
              "      <td>-0.121359</td>\n",
              "      <td>-2.261857</td>\n",
              "      <td>0.524980</td>\n",
              "      <td>0.247998</td>\n",
              "      <td>0.771679</td>\n",
              "      <td>0.909412</td>\n",
              "      <td>-0.689281</td>\n",
              "      <td>-0.327642</td>\n",
              "      <td>-0.139097</td>\n",
              "      <td>-0.055353</td>\n",
              "      <td>-0.059752</td>\n",
              "      <td>378.66</td>\n",
              "      <td>0.0</td>\n",
              "    </tr>\n",
              "    <tr>\n",
              "      <th>3</th>\n",
              "      <td>1</td>\n",
              "      <td>-0.966272</td>\n",
              "      <td>-0.185226</td>\n",
              "      <td>1.792993</td>\n",
              "      <td>-0.863291</td>\n",
              "      <td>-0.010309</td>\n",
              "      <td>1.247203</td>\n",
              "      <td>0.237609</td>\n",
              "      <td>0.377436</td>\n",
              "      <td>-1.387024</td>\n",
              "      <td>-0.054952</td>\n",
              "      <td>-0.226487</td>\n",
              "      <td>0.178228</td>\n",
              "      <td>0.507757</td>\n",
              "      <td>-0.287924</td>\n",
              "      <td>-0.631418</td>\n",
              "      <td>-1.059647</td>\n",
              "      <td>-0.684093</td>\n",
              "      <td>1.965775</td>\n",
              "      <td>-1.232622</td>\n",
              "      <td>-0.208038</td>\n",
              "      <td>-0.108300</td>\n",
              "      <td>0.005274</td>\n",
              "      <td>-0.190321</td>\n",
              "      <td>-1.175575</td>\n",
              "      <td>0.647376</td>\n",
              "      <td>-0.221929</td>\n",
              "      <td>0.062723</td>\n",
              "      <td>0.061458</td>\n",
              "      <td>123.50</td>\n",
              "      <td>0.0</td>\n",
              "    </tr>\n",
              "    <tr>\n",
              "      <th>4</th>\n",
              "      <td>2</td>\n",
              "      <td>-1.158233</td>\n",
              "      <td>0.877737</td>\n",
              "      <td>1.548718</td>\n",
              "      <td>0.403034</td>\n",
              "      <td>-0.407193</td>\n",
              "      <td>0.095921</td>\n",
              "      <td>0.592941</td>\n",
              "      <td>-0.270533</td>\n",
              "      <td>0.817739</td>\n",
              "      <td>0.753074</td>\n",
              "      <td>-0.822843</td>\n",
              "      <td>0.538196</td>\n",
              "      <td>1.345852</td>\n",
              "      <td>-1.119670</td>\n",
              "      <td>0.175121</td>\n",
              "      <td>-0.451449</td>\n",
              "      <td>-0.237033</td>\n",
              "      <td>-0.038195</td>\n",
              "      <td>0.803487</td>\n",
              "      <td>0.408542</td>\n",
              "      <td>-0.009431</td>\n",
              "      <td>0.798278</td>\n",
              "      <td>-0.137458</td>\n",
              "      <td>0.141267</td>\n",
              "      <td>-0.206010</td>\n",
              "      <td>0.502292</td>\n",
              "      <td>0.219422</td>\n",
              "      <td>0.215153</td>\n",
              "      <td>69.99</td>\n",
              "      <td>0.0</td>\n",
              "    </tr>\n",
              "  </tbody>\n",
              "</table>\n",
              "</div>"
            ],
            "text/plain": [
              "   Time        V1        V2        V3  ...       V27       V28  Amount  Class\n",
              "0     0 -1.359807 -0.072781  2.536347  ...  0.133558 -0.021053  149.62    0.0\n",
              "1     0  1.191857  0.266151  0.166480  ... -0.008983  0.014724    2.69    0.0\n",
              "2     1 -1.358354 -1.340163  1.773209  ... -0.055353 -0.059752  378.66    0.0\n",
              "3     1 -0.966272 -0.185226  1.792993  ...  0.062723  0.061458  123.50    0.0\n",
              "4     2 -1.158233  0.877737  1.548718  ...  0.219422  0.215153   69.99    0.0\n",
              "\n",
              "[5 rows x 31 columns]"
            ]
          },
          "metadata": {},
          "execution_count": 4
        }
      ]
    },
    {
      "cell_type": "code",
      "metadata": {
        "colab": {
          "base_uri": "https://localhost:8080/",
          "height": 223
        },
        "id": "USfbNEHniJ5L",
        "outputId": "2bf93f40-3b7e-4541-9021-c505eb40f3c2"
      },
      "source": [
        "credit_card_data.tail()"
      ],
      "execution_count": 5,
      "outputs": [
        {
          "output_type": "execute_result",
          "data": {
            "text/html": [
              "<div>\n",
              "<style scoped>\n",
              "    .dataframe tbody tr th:only-of-type {\n",
              "        vertical-align: middle;\n",
              "    }\n",
              "\n",
              "    .dataframe tbody tr th {\n",
              "        vertical-align: top;\n",
              "    }\n",
              "\n",
              "    .dataframe thead th {\n",
              "        text-align: right;\n",
              "    }\n",
              "</style>\n",
              "<table border=\"1\" class=\"dataframe\">\n",
              "  <thead>\n",
              "    <tr style=\"text-align: right;\">\n",
              "      <th></th>\n",
              "      <th>Time</th>\n",
              "      <th>V1</th>\n",
              "      <th>V2</th>\n",
              "      <th>V3</th>\n",
              "      <th>V4</th>\n",
              "      <th>V5</th>\n",
              "      <th>V6</th>\n",
              "      <th>V7</th>\n",
              "      <th>V8</th>\n",
              "      <th>V9</th>\n",
              "      <th>V10</th>\n",
              "      <th>V11</th>\n",
              "      <th>V12</th>\n",
              "      <th>V13</th>\n",
              "      <th>V14</th>\n",
              "      <th>V15</th>\n",
              "      <th>V16</th>\n",
              "      <th>V17</th>\n",
              "      <th>V18</th>\n",
              "      <th>V19</th>\n",
              "      <th>V20</th>\n",
              "      <th>V21</th>\n",
              "      <th>V22</th>\n",
              "      <th>V23</th>\n",
              "      <th>V24</th>\n",
              "      <th>V25</th>\n",
              "      <th>V26</th>\n",
              "      <th>V27</th>\n",
              "      <th>V28</th>\n",
              "      <th>Amount</th>\n",
              "      <th>Class</th>\n",
              "    </tr>\n",
              "  </thead>\n",
              "  <tbody>\n",
              "    <tr>\n",
              "      <th>41678</th>\n",
              "      <td>40781</td>\n",
              "      <td>-0.447381</td>\n",
              "      <td>1.134089</td>\n",
              "      <td>0.534095</td>\n",
              "      <td>-0.192366</td>\n",
              "      <td>1.344408</td>\n",
              "      <td>-0.370402</td>\n",
              "      <td>1.088646</td>\n",
              "      <td>-0.094025</td>\n",
              "      <td>-0.444502</td>\n",
              "      <td>-0.966513</td>\n",
              "      <td>0.451697</td>\n",
              "      <td>-0.902774</td>\n",
              "      <td>-1.552331</td>\n",
              "      <td>-1.269508</td>\n",
              "      <td>-0.096249</td>\n",
              "      <td>1.284876</td>\n",
              "      <td>-0.068323</td>\n",
              "      <td>1.661342</td>\n",
              "      <td>-0.606394</td>\n",
              "      <td>-0.107125</td>\n",
              "      <td>-0.050234</td>\n",
              "      <td>-0.092340</td>\n",
              "      <td>-0.463501</td>\n",
              "      <td>-0.908485</td>\n",
              "      <td>0.202750</td>\n",
              "      <td>-0.506844</td>\n",
              "      <td>-0.058317</td>\n",
              "      <td>-0.085094</td>\n",
              "      <td>1.00</td>\n",
              "      <td>0.0</td>\n",
              "    </tr>\n",
              "    <tr>\n",
              "      <th>41679</th>\n",
              "      <td>40782</td>\n",
              "      <td>1.133168</td>\n",
              "      <td>0.406826</td>\n",
              "      <td>0.956032</td>\n",
              "      <td>2.315761</td>\n",
              "      <td>-0.242409</td>\n",
              "      <td>0.225013</td>\n",
              "      <td>-0.295703</td>\n",
              "      <td>0.130832</td>\n",
              "      <td>-0.768433</td>\n",
              "      <td>0.824612</td>\n",
              "      <td>0.890682</td>\n",
              "      <td>0.723309</td>\n",
              "      <td>0.616959</td>\n",
              "      <td>0.143438</td>\n",
              "      <td>0.031017</td>\n",
              "      <td>1.202022</td>\n",
              "      <td>-1.159603</td>\n",
              "      <td>0.639115</td>\n",
              "      <td>-0.812050</td>\n",
              "      <td>-0.071535</td>\n",
              "      <td>0.180411</td>\n",
              "      <td>0.487918</td>\n",
              "      <td>-0.121882</td>\n",
              "      <td>0.029950</td>\n",
              "      <td>0.465114</td>\n",
              "      <td>0.097369</td>\n",
              "      <td>0.010912</td>\n",
              "      <td>0.018509</td>\n",
              "      <td>10.65</td>\n",
              "      <td>0.0</td>\n",
              "    </tr>\n",
              "    <tr>\n",
              "      <th>41680</th>\n",
              "      <td>40783</td>\n",
              "      <td>-0.536190</td>\n",
              "      <td>1.355132</td>\n",
              "      <td>0.064049</td>\n",
              "      <td>0.884589</td>\n",
              "      <td>0.581654</td>\n",
              "      <td>-0.179437</td>\n",
              "      <td>0.466058</td>\n",
              "      <td>0.213312</td>\n",
              "      <td>-0.130088</td>\n",
              "      <td>-0.023518</td>\n",
              "      <td>1.349797</td>\n",
              "      <td>-0.865139</td>\n",
              "      <td>-2.188325</td>\n",
              "      <td>-0.996322</td>\n",
              "      <td>1.045207</td>\n",
              "      <td>0.300484</td>\n",
              "      <td>1.086179</td>\n",
              "      <td>1.198396</td>\n",
              "      <td>0.144861</td>\n",
              "      <td>-0.012881</td>\n",
              "      <td>-0.013520</td>\n",
              "      <td>0.198903</td>\n",
              "      <td>-0.112066</td>\n",
              "      <td>-0.505780</td>\n",
              "      <td>-0.266556</td>\n",
              "      <td>-0.349786</td>\n",
              "      <td>-0.367509</td>\n",
              "      <td>-0.399716</td>\n",
              "      <td>1.00</td>\n",
              "      <td>0.0</td>\n",
              "    </tr>\n",
              "    <tr>\n",
              "      <th>41681</th>\n",
              "      <td>40783</td>\n",
              "      <td>-0.498757</td>\n",
              "      <td>0.332449</td>\n",
              "      <td>1.917148</td>\n",
              "      <td>-2.340131</td>\n",
              "      <td>-1.098398</td>\n",
              "      <td>-0.863136</td>\n",
              "      <td>-0.055820</td>\n",
              "      <td>-0.084046</td>\n",
              "      <td>1.673677</td>\n",
              "      <td>-1.560954</td>\n",
              "      <td>0.051092</td>\n",
              "      <td>1.290632</td>\n",
              "      <td>1.722273</td>\n",
              "      <td>-0.492084</td>\n",
              "      <td>2.591442</td>\n",
              "      <td>-0.806287</td>\n",
              "      <td>-0.218458</td>\n",
              "      <td>0.863175</td>\n",
              "      <td>1.435501</td>\n",
              "      <td>0.295128</td>\n",
              "      <td>0.371752</td>\n",
              "      <td>1.441352</td>\n",
              "      <td>-0.250882</td>\n",
              "      <td>0.483504</td>\n",
              "      <td>-0.140917</td>\n",
              "      <td>-0.613552</td>\n",
              "      <td>0.380606</td>\n",
              "      <td>0.226502</td>\n",
              "      <td>26.59</td>\n",
              "      <td>0.0</td>\n",
              "    </tr>\n",
              "    <tr>\n",
              "      <th>41682</th>\n",
              "      <td>40784</td>\n",
              "      <td>-0.621229</td>\n",
              "      <td>-0.733600</td>\n",
              "      <td>NaN</td>\n",
              "      <td>NaN</td>\n",
              "      <td>NaN</td>\n",
              "      <td>NaN</td>\n",
              "      <td>NaN</td>\n",
              "      <td>NaN</td>\n",
              "      <td>NaN</td>\n",
              "      <td>NaN</td>\n",
              "      <td>NaN</td>\n",
              "      <td>NaN</td>\n",
              "      <td>NaN</td>\n",
              "      <td>NaN</td>\n",
              "      <td>NaN</td>\n",
              "      <td>NaN</td>\n",
              "      <td>NaN</td>\n",
              "      <td>NaN</td>\n",
              "      <td>NaN</td>\n",
              "      <td>NaN</td>\n",
              "      <td>NaN</td>\n",
              "      <td>NaN</td>\n",
              "      <td>NaN</td>\n",
              "      <td>NaN</td>\n",
              "      <td>NaN</td>\n",
              "      <td>NaN</td>\n",
              "      <td>NaN</td>\n",
              "      <td>NaN</td>\n",
              "      <td>NaN</td>\n",
              "      <td>NaN</td>\n",
              "    </tr>\n",
              "  </tbody>\n",
              "</table>\n",
              "</div>"
            ],
            "text/plain": [
              "        Time        V1        V2        V3  ...       V27       V28  Amount  Class\n",
              "41678  40781 -0.447381  1.134089  0.534095  ... -0.058317 -0.085094    1.00    0.0\n",
              "41679  40782  1.133168  0.406826  0.956032  ...  0.010912  0.018509   10.65    0.0\n",
              "41680  40783 -0.536190  1.355132  0.064049  ... -0.367509 -0.399716    1.00    0.0\n",
              "41681  40783 -0.498757  0.332449  1.917148  ...  0.380606  0.226502   26.59    0.0\n",
              "41682  40784 -0.621229 -0.733600       NaN  ...       NaN       NaN     NaN    NaN\n",
              "\n",
              "[5 rows x 31 columns]"
            ]
          },
          "metadata": {},
          "execution_count": 5
        }
      ]
    },
    {
      "cell_type": "code",
      "metadata": {
        "colab": {
          "base_uri": "https://localhost:8080/",
          "height": 0
        },
        "id": "lMn516L8iNRz",
        "outputId": "928458e5-d13e-4e21-9971-48b0073017a2"
      },
      "source": [
        "# dataset informations\n",
        "credit_card_data.info()"
      ],
      "execution_count": 6,
      "outputs": [
        {
          "output_type": "stream",
          "name": "stdout",
          "text": [
            "<class 'pandas.core.frame.DataFrame'>\n",
            "RangeIndex: 41683 entries, 0 to 41682\n",
            "Data columns (total 31 columns):\n",
            " #   Column  Non-Null Count  Dtype  \n",
            "---  ------  --------------  -----  \n",
            " 0   Time    41683 non-null  int64  \n",
            " 1   V1      41683 non-null  float64\n",
            " 2   V2      41683 non-null  float64\n",
            " 3   V3      41682 non-null  float64\n",
            " 4   V4      41682 non-null  float64\n",
            " 5   V5      41682 non-null  float64\n",
            " 6   V6      41682 non-null  float64\n",
            " 7   V7      41682 non-null  float64\n",
            " 8   V8      41682 non-null  float64\n",
            " 9   V9      41682 non-null  float64\n",
            " 10  V10     41682 non-null  float64\n",
            " 11  V11     41682 non-null  float64\n",
            " 12  V12     41682 non-null  float64\n",
            " 13  V13     41682 non-null  float64\n",
            " 14  V14     41682 non-null  float64\n",
            " 15  V15     41682 non-null  float64\n",
            " 16  V16     41682 non-null  float64\n",
            " 17  V17     41682 non-null  float64\n",
            " 18  V18     41682 non-null  float64\n",
            " 19  V19     41682 non-null  float64\n",
            " 20  V20     41682 non-null  float64\n",
            " 21  V21     41682 non-null  float64\n",
            " 22  V22     41682 non-null  float64\n",
            " 23  V23     41682 non-null  float64\n",
            " 24  V24     41682 non-null  float64\n",
            " 25  V25     41682 non-null  float64\n",
            " 26  V26     41682 non-null  float64\n",
            " 27  V27     41682 non-null  float64\n",
            " 28  V28     41682 non-null  float64\n",
            " 29  Amount  41682 non-null  float64\n",
            " 30  Class   41682 non-null  float64\n",
            "dtypes: float64(30), int64(1)\n",
            "memory usage: 9.9 MB\n"
          ]
        }
      ]
    },
    {
      "cell_type": "code",
      "metadata": {
        "colab": {
          "base_uri": "https://localhost:8080/",
          "height": 0
        },
        "id": "kTxN595FiQiJ",
        "outputId": "4c26956a-9580-4454-fc69-af45b937b3f5"
      },
      "source": [
        "# checking the number of missing values in each column\n",
        "credit_card_data.isnull().sum()"
      ],
      "execution_count": 7,
      "outputs": [
        {
          "output_type": "execute_result",
          "data": {
            "text/plain": [
              "Time      0\n",
              "V1        0\n",
              "V2        0\n",
              "V3        1\n",
              "V4        1\n",
              "V5        1\n",
              "V6        1\n",
              "V7        1\n",
              "V8        1\n",
              "V9        1\n",
              "V10       1\n",
              "V11       1\n",
              "V12       1\n",
              "V13       1\n",
              "V14       1\n",
              "V15       1\n",
              "V16       1\n",
              "V17       1\n",
              "V18       1\n",
              "V19       1\n",
              "V20       1\n",
              "V21       1\n",
              "V22       1\n",
              "V23       1\n",
              "V24       1\n",
              "V25       1\n",
              "V26       1\n",
              "V27       1\n",
              "V28       1\n",
              "Amount    1\n",
              "Class     1\n",
              "dtype: int64"
            ]
          },
          "metadata": {},
          "execution_count": 7
        }
      ]
    },
    {
      "cell_type": "code",
      "metadata": {
        "colab": {
          "base_uri": "https://localhost:8080/",
          "height": 0
        },
        "id": "v86hfLZqiT1h",
        "outputId": "1a2de276-02cd-43d2-ddfe-31276a16cabe"
      },
      "source": [
        "# distribution of legit transactions & fraudulent transactions\n",
        "credit_card_data['Class'].value_counts()"
      ],
      "execution_count": 31,
      "outputs": [
        {
          "output_type": "execute_result",
          "data": {
            "text/plain": [
              "0.0    41574\n",
              "1.0      108\n",
              "Name: Class, dtype: int64"
            ]
          },
          "metadata": {},
          "execution_count": 31
        }
      ]
    },
    {
      "cell_type": "markdown",
      "metadata": {
        "id": "WXOggKgDkoFH"
      },
      "source": [
        "This dataset is highly unbalanced.\n"
      ]
    },
    {
      "cell_type": "markdown",
      "metadata": {
        "id": "L4zmIU5Kk_hy"
      },
      "source": [
        "0, defines Normal Transaction\n",
        "\n",
        "1, Defines Fraudulent Transaction"
      ]
    },
    {
      "cell_type": "code",
      "metadata": {
        "id": "-YnYLCgZiW1d"
      },
      "source": [
        "# separating the data for analysis\n",
        "legit = credit_card_data[credit_card_data.Class == 0]\n",
        "fraud = credit_card_data[credit_card_data.Class == 1]"
      ],
      "execution_count": 32,
      "outputs": []
    },
    {
      "cell_type": "code",
      "metadata": {
        "colab": {
          "base_uri": "https://localhost:8080/",
          "height": 0
        },
        "id": "qDurpvDBijWm",
        "outputId": "2d427be8-722c-4dcc-ba8c-910ef353f434"
      },
      "source": [
        "print(legit.shape)\n",
        "print(fraud.shape)"
      ],
      "execution_count": 10,
      "outputs": [
        {
          "output_type": "stream",
          "name": "stdout",
          "text": [
            "(41574, 31)\n",
            "(108, 31)\n"
          ]
        }
      ]
    },
    {
      "cell_type": "code",
      "metadata": {
        "colab": {
          "base_uri": "https://localhost:8080/",
          "height": 0
        },
        "id": "U2eWAlwgimQq",
        "outputId": "3eee04bf-88a5-4edd-90c7-b46e96fa6e44"
      },
      "source": [
        "# statistical measures of the data\n",
        "legit.Amount.describe()"
      ],
      "execution_count": 11,
      "outputs": [
        {
          "output_type": "execute_result",
          "data": {
            "text/plain": [
              "count    41574.000000\n",
              "mean        89.092554\n",
              "std        237.129967\n",
              "min          0.000000\n",
              "25%          7.550000\n",
              "50%         24.000000\n",
              "75%         80.000000\n",
              "max       7879.420000\n",
              "Name: Amount, dtype: float64"
            ]
          },
          "metadata": {},
          "execution_count": 11
        }
      ]
    },
    {
      "cell_type": "code",
      "metadata": {
        "colab": {
          "base_uri": "https://localhost:8080/",
          "height": 0
        },
        "id": "OwYIzRKfioyc",
        "outputId": "0b971191-8b02-4070-b7be-8c5c6711de78"
      },
      "source": [
        "fraud.Amount.describe()"
      ],
      "execution_count": 12,
      "outputs": [
        {
          "output_type": "execute_result",
          "data": {
            "text/plain": [
              "count     108.000000\n",
              "mean       93.512593\n",
              "std       250.863273\n",
              "min         0.000000\n",
              "25%         1.000000\n",
              "50%         2.320000\n",
              "75%        99.990000\n",
              "max      1809.680000\n",
              "Name: Amount, dtype: float64"
            ]
          },
          "metadata": {},
          "execution_count": 12
        }
      ]
    },
    {
      "cell_type": "code",
      "metadata": {
        "colab": {
          "base_uri": "https://localhost:8080/",
          "height": 161
        },
        "id": "fpu_5KEYirU-",
        "outputId": "67fb05a7-95d9-4ebd-a55c-2411996b6f65"
      },
      "source": [
        "# compare the values for both transactions\n",
        "credit_card_data.groupby('Class').mean()"
      ],
      "execution_count": 13,
      "outputs": [
        {
          "output_type": "execute_result",
          "data": {
            "text/html": [
              "<div>\n",
              "<style scoped>\n",
              "    .dataframe tbody tr th:only-of-type {\n",
              "        vertical-align: middle;\n",
              "    }\n",
              "\n",
              "    .dataframe tbody tr th {\n",
              "        vertical-align: top;\n",
              "    }\n",
              "\n",
              "    .dataframe thead th {\n",
              "        text-align: right;\n",
              "    }\n",
              "</style>\n",
              "<table border=\"1\" class=\"dataframe\">\n",
              "  <thead>\n",
              "    <tr style=\"text-align: right;\">\n",
              "      <th></th>\n",
              "      <th>Time</th>\n",
              "      <th>V1</th>\n",
              "      <th>V2</th>\n",
              "      <th>V3</th>\n",
              "      <th>V4</th>\n",
              "      <th>V5</th>\n",
              "      <th>V6</th>\n",
              "      <th>V7</th>\n",
              "      <th>V8</th>\n",
              "      <th>V9</th>\n",
              "      <th>V10</th>\n",
              "      <th>V11</th>\n",
              "      <th>V12</th>\n",
              "      <th>V13</th>\n",
              "      <th>V14</th>\n",
              "      <th>V15</th>\n",
              "      <th>V16</th>\n",
              "      <th>V17</th>\n",
              "      <th>V18</th>\n",
              "      <th>V19</th>\n",
              "      <th>V20</th>\n",
              "      <th>V21</th>\n",
              "      <th>V22</th>\n",
              "      <th>V23</th>\n",
              "      <th>V24</th>\n",
              "      <th>V25</th>\n",
              "      <th>V26</th>\n",
              "      <th>V27</th>\n",
              "      <th>V28</th>\n",
              "      <th>Amount</th>\n",
              "    </tr>\n",
              "    <tr>\n",
              "      <th>Class</th>\n",
              "      <th></th>\n",
              "      <th></th>\n",
              "      <th></th>\n",
              "      <th></th>\n",
              "      <th></th>\n",
              "      <th></th>\n",
              "      <th></th>\n",
              "      <th></th>\n",
              "      <th></th>\n",
              "      <th></th>\n",
              "      <th></th>\n",
              "      <th></th>\n",
              "      <th></th>\n",
              "      <th></th>\n",
              "      <th></th>\n",
              "      <th></th>\n",
              "      <th></th>\n",
              "      <th></th>\n",
              "      <th></th>\n",
              "      <th></th>\n",
              "      <th></th>\n",
              "      <th></th>\n",
              "      <th></th>\n",
              "      <th></th>\n",
              "      <th></th>\n",
              "      <th></th>\n",
              "      <th></th>\n",
              "      <th></th>\n",
              "      <th></th>\n",
              "      <th></th>\n",
              "    </tr>\n",
              "  </thead>\n",
              "  <tbody>\n",
              "    <tr>\n",
              "      <th>0.0</th>\n",
              "      <td>26220.447082</td>\n",
              "      <td>-0.203702</td>\n",
              "      <td>0.021029</td>\n",
              "      <td>0.74135</td>\n",
              "      <td>0.172070</td>\n",
              "      <td>-0.222039</td>\n",
              "      <td>0.105713</td>\n",
              "      <td>-0.093360</td>\n",
              "      <td>0.035106</td>\n",
              "      <td>0.201757</td>\n",
              "      <td>-0.050262</td>\n",
              "      <td>0.397763</td>\n",
              "      <td>-0.415135</td>\n",
              "      <td>0.226988</td>\n",
              "      <td>0.246219</td>\n",
              "      <td>0.102912</td>\n",
              "      <td>0.009163</td>\n",
              "      <td>0.165792</td>\n",
              "      <td>-0.084449</td>\n",
              "      <td>-0.033582</td>\n",
              "      <td>0.045420</td>\n",
              "      <td>-0.030057</td>\n",
              "      <td>-0.110755</td>\n",
              "      <td>-0.039591</td>\n",
              "      <td>0.007931</td>\n",
              "      <td>0.135806</td>\n",
              "      <td>0.022783</td>\n",
              "      <td>0.005968</td>\n",
              "      <td>0.004583</td>\n",
              "      <td>89.092554</td>\n",
              "    </tr>\n",
              "    <tr>\n",
              "      <th>1.0</th>\n",
              "      <td>21414.990741</td>\n",
              "      <td>-7.454643</td>\n",
              "      <td>5.595067</td>\n",
              "      <td>-10.62406</td>\n",
              "      <td>5.849772</td>\n",
              "      <td>-5.115950</td>\n",
              "      <td>-2.288288</td>\n",
              "      <td>-7.382457</td>\n",
              "      <td>3.691487</td>\n",
              "      <td>-2.904887</td>\n",
              "      <td>-6.511032</td>\n",
              "      <td>5.397581</td>\n",
              "      <td>-8.129950</td>\n",
              "      <td>0.345852</td>\n",
              "      <td>-8.295162</td>\n",
              "      <td>-0.007414</td>\n",
              "      <td>-4.722107</td>\n",
              "      <td>-7.554117</td>\n",
              "      <td>-2.667420</td>\n",
              "      <td>0.428298</td>\n",
              "      <td>0.630658</td>\n",
              "      <td>0.602725</td>\n",
              "      <td>-0.336878</td>\n",
              "      <td>-0.313708</td>\n",
              "      <td>-0.237598</td>\n",
              "      <td>0.310378</td>\n",
              "      <td>0.183470</td>\n",
              "      <td>0.791559</td>\n",
              "      <td>0.112874</td>\n",
              "      <td>93.512593</td>\n",
              "    </tr>\n",
              "  </tbody>\n",
              "</table>\n",
              "</div>"
            ],
            "text/plain": [
              "               Time        V1        V2  ...       V27       V28     Amount\n",
              "Class                                    ...                               \n",
              "0.0    26220.447082 -0.203702  0.021029  ...  0.005968  0.004583  89.092554\n",
              "1.0    21414.990741 -7.454643  5.595067  ...  0.791559  0.112874  93.512593\n",
              "\n",
              "[2 rows x 30 columns]"
            ]
          },
          "metadata": {},
          "execution_count": 13
        }
      ]
    },
    {
      "cell_type": "markdown",
      "metadata": {
        "id": "e1MZdZnHlc5H"
      },
      "source": [
        "Under-Sampling"
      ]
    },
    {
      "cell_type": "markdown",
      "metadata": {
        "id": "BDWxEVmMleqW"
      },
      "source": [
        "Build a sample dataset containing similar distribution of normal transactions and Fraudulent Transactions"
      ]
    },
    {
      "cell_type": "markdown",
      "metadata": {
        "id": "bQPc9H1dluCR"
      },
      "source": [
        "Number of Fraudulent Transactions --> 500"
      ]
    },
    {
      "cell_type": "code",
      "metadata": {
        "id": "85pCLZWKitxA"
      },
      "source": [
        "legit_sample = legit.sample(n=500)"
      ],
      "execution_count": 33,
      "outputs": []
    },
    {
      "cell_type": "markdown",
      "metadata": {
        "id": "P-jipla9l446"
      },
      "source": [
        "Concatenating two DataFrames"
      ]
    },
    {
      "cell_type": "code",
      "metadata": {
        "id": "x0tSAy1MiwBL"
      },
      "source": [
        "new_dataset = pd.concat([legit_sample, fraud], axis=0)"
      ],
      "execution_count": 34,
      "outputs": []
    },
    {
      "cell_type": "code",
      "metadata": {
        "colab": {
          "base_uri": "https://localhost:8080/",
          "height": 223
        },
        "id": "oUXe1CG9iykQ",
        "outputId": "2f2eb18d-9725-42bb-f31f-368843a38376"
      },
      "source": [
        "new_dataset.head()"
      ],
      "execution_count": 35,
      "outputs": [
        {
          "output_type": "execute_result",
          "data": {
            "text/html": [
              "<div>\n",
              "<style scoped>\n",
              "    .dataframe tbody tr th:only-of-type {\n",
              "        vertical-align: middle;\n",
              "    }\n",
              "\n",
              "    .dataframe tbody tr th {\n",
              "        vertical-align: top;\n",
              "    }\n",
              "\n",
              "    .dataframe thead th {\n",
              "        text-align: right;\n",
              "    }\n",
              "</style>\n",
              "<table border=\"1\" class=\"dataframe\">\n",
              "  <thead>\n",
              "    <tr style=\"text-align: right;\">\n",
              "      <th></th>\n",
              "      <th>Time</th>\n",
              "      <th>V1</th>\n",
              "      <th>V2</th>\n",
              "      <th>V3</th>\n",
              "      <th>V4</th>\n",
              "      <th>V5</th>\n",
              "      <th>V6</th>\n",
              "      <th>V7</th>\n",
              "      <th>V8</th>\n",
              "      <th>V9</th>\n",
              "      <th>V10</th>\n",
              "      <th>V11</th>\n",
              "      <th>V12</th>\n",
              "      <th>V13</th>\n",
              "      <th>V14</th>\n",
              "      <th>V15</th>\n",
              "      <th>V16</th>\n",
              "      <th>V17</th>\n",
              "      <th>V18</th>\n",
              "      <th>V19</th>\n",
              "      <th>V20</th>\n",
              "      <th>V21</th>\n",
              "      <th>V22</th>\n",
              "      <th>V23</th>\n",
              "      <th>V24</th>\n",
              "      <th>V25</th>\n",
              "      <th>V26</th>\n",
              "      <th>V27</th>\n",
              "      <th>V28</th>\n",
              "      <th>Amount</th>\n",
              "      <th>Class</th>\n",
              "    </tr>\n",
              "  </thead>\n",
              "  <tbody>\n",
              "    <tr>\n",
              "      <th>30244</th>\n",
              "      <td>35838</td>\n",
              "      <td>1.181768</td>\n",
              "      <td>0.221370</td>\n",
              "      <td>0.032635</td>\n",
              "      <td>1.125120</td>\n",
              "      <td>0.192611</td>\n",
              "      <td>0.113199</td>\n",
              "      <td>0.085133</td>\n",
              "      <td>0.104578</td>\n",
              "      <td>-0.099643</td>\n",
              "      <td>0.138720</td>\n",
              "      <td>0.882412</td>\n",
              "      <td>0.670799</td>\n",
              "      <td>-0.748728</td>\n",
              "      <td>0.567713</td>\n",
              "      <td>-0.371859</td>\n",
              "      <td>-0.348425</td>\n",
              "      <td>-0.173448</td>\n",
              "      <td>-0.213309</td>\n",
              "      <td>-0.067792</td>\n",
              "      <td>-0.218644</td>\n",
              "      <td>0.014133</td>\n",
              "      <td>0.180435</td>\n",
              "      <td>-0.161884</td>\n",
              "      <td>-0.300931</td>\n",
              "      <td>0.762638</td>\n",
              "      <td>-0.226073</td>\n",
              "      <td>0.018115</td>\n",
              "      <td>-0.004768</td>\n",
              "      <td>1.00</td>\n",
              "      <td>0.0</td>\n",
              "    </tr>\n",
              "    <tr>\n",
              "      <th>14919</th>\n",
              "      <td>26214</td>\n",
              "      <td>-3.543764</td>\n",
              "      <td>-2.415426</td>\n",
              "      <td>0.434704</td>\n",
              "      <td>1.685170</td>\n",
              "      <td>0.869946</td>\n",
              "      <td>-1.120597</td>\n",
              "      <td>0.809715</td>\n",
              "      <td>-0.008041</td>\n",
              "      <td>-0.593419</td>\n",
              "      <td>0.189592</td>\n",
              "      <td>1.193003</td>\n",
              "      <td>0.545280</td>\n",
              "      <td>0.095548</td>\n",
              "      <td>0.483431</td>\n",
              "      <td>0.582841</td>\n",
              "      <td>0.114361</td>\n",
              "      <td>-0.512492</td>\n",
              "      <td>0.729856</td>\n",
              "      <td>0.947956</td>\n",
              "      <td>-0.435803</td>\n",
              "      <td>-0.003790</td>\n",
              "      <td>0.842621</td>\n",
              "      <td>2.395163</td>\n",
              "      <td>0.292909</td>\n",
              "      <td>0.365773</td>\n",
              "      <td>-0.315108</td>\n",
              "      <td>-0.395121</td>\n",
              "      <td>0.439855</td>\n",
              "      <td>198.00</td>\n",
              "      <td>0.0</td>\n",
              "    </tr>\n",
              "    <tr>\n",
              "      <th>24618</th>\n",
              "      <td>33304</td>\n",
              "      <td>-0.402585</td>\n",
              "      <td>0.863226</td>\n",
              "      <td>1.678223</td>\n",
              "      <td>1.202319</td>\n",
              "      <td>0.182255</td>\n",
              "      <td>0.339054</td>\n",
              "      <td>0.802294</td>\n",
              "      <td>0.021503</td>\n",
              "      <td>-0.405763</td>\n",
              "      <td>0.258626</td>\n",
              "      <td>1.318431</td>\n",
              "      <td>0.718488</td>\n",
              "      <td>-0.480725</td>\n",
              "      <td>0.054783</td>\n",
              "      <td>-0.447927</td>\n",
              "      <td>-1.153432</td>\n",
              "      <td>0.358758</td>\n",
              "      <td>-0.248307</td>\n",
              "      <td>0.935066</td>\n",
              "      <td>0.245490</td>\n",
              "      <td>-0.010734</td>\n",
              "      <td>0.432270</td>\n",
              "      <td>-0.124084</td>\n",
              "      <td>0.228447</td>\n",
              "      <td>-0.171562</td>\n",
              "      <td>-0.281744</td>\n",
              "      <td>0.253804</td>\n",
              "      <td>-0.025893</td>\n",
              "      <td>33.30</td>\n",
              "      <td>0.0</td>\n",
              "    </tr>\n",
              "    <tr>\n",
              "      <th>4951</th>\n",
              "      <td>4498</td>\n",
              "      <td>-2.922120</td>\n",
              "      <td>-0.266165</td>\n",
              "      <td>1.108301</td>\n",
              "      <td>3.405127</td>\n",
              "      <td>1.098376</td>\n",
              "      <td>-0.072956</td>\n",
              "      <td>0.774663</td>\n",
              "      <td>-0.086576</td>\n",
              "      <td>-0.616773</td>\n",
              "      <td>0.804679</td>\n",
              "      <td>2.607960</td>\n",
              "      <td>-2.154150</td>\n",
              "      <td>1.790774</td>\n",
              "      <td>2.038959</td>\n",
              "      <td>0.019559</td>\n",
              "      <td>-0.379573</td>\n",
              "      <td>0.942850</td>\n",
              "      <td>0.094090</td>\n",
              "      <td>0.893164</td>\n",
              "      <td>-1.193146</td>\n",
              "      <td>-0.426406</td>\n",
              "      <td>0.491907</td>\n",
              "      <td>1.300791</td>\n",
              "      <td>0.211269</td>\n",
              "      <td>0.709612</td>\n",
              "      <td>0.364280</td>\n",
              "      <td>-0.031512</td>\n",
              "      <td>-0.539735</td>\n",
              "      <td>96.96</td>\n",
              "      <td>0.0</td>\n",
              "    </tr>\n",
              "    <tr>\n",
              "      <th>34049</th>\n",
              "      <td>37491</td>\n",
              "      <td>-4.277853</td>\n",
              "      <td>-6.755229</td>\n",
              "      <td>-1.170772</td>\n",
              "      <td>2.274089</td>\n",
              "      <td>-7.580803</td>\n",
              "      <td>4.120709</td>\n",
              "      <td>7.735924</td>\n",
              "      <td>-0.491362</td>\n",
              "      <td>-1.617076</td>\n",
              "      <td>-1.741440</td>\n",
              "      <td>-0.862589</td>\n",
              "      <td>-0.480985</td>\n",
              "      <td>0.511594</td>\n",
              "      <td>-0.332817</td>\n",
              "      <td>-0.166756</td>\n",
              "      <td>-1.917668</td>\n",
              "      <td>0.639305</td>\n",
              "      <td>1.718310</td>\n",
              "      <td>-1.104547</td>\n",
              "      <td>4.860362</td>\n",
              "      <td>1.110078</td>\n",
              "      <td>-0.347456</td>\n",
              "      <td>5.936241</td>\n",
              "      <td>0.059565</td>\n",
              "      <td>-0.069018</td>\n",
              "      <td>-0.572163</td>\n",
              "      <td>-0.532888</td>\n",
              "      <td>0.403027</td>\n",
              "      <td>2425.35</td>\n",
              "      <td>0.0</td>\n",
              "    </tr>\n",
              "  </tbody>\n",
              "</table>\n",
              "</div>"
            ],
            "text/plain": [
              "        Time        V1        V2        V3  ...       V27       V28   Amount  Class\n",
              "30244  35838  1.181768  0.221370  0.032635  ...  0.018115 -0.004768     1.00    0.0\n",
              "14919  26214 -3.543764 -2.415426  0.434704  ... -0.395121  0.439855   198.00    0.0\n",
              "24618  33304 -0.402585  0.863226  1.678223  ...  0.253804 -0.025893    33.30    0.0\n",
              "4951    4498 -2.922120 -0.266165  1.108301  ... -0.031512 -0.539735    96.96    0.0\n",
              "34049  37491 -4.277853 -6.755229 -1.170772  ... -0.532888  0.403027  2425.35    0.0\n",
              "\n",
              "[5 rows x 31 columns]"
            ]
          },
          "metadata": {},
          "execution_count": 35
        }
      ]
    },
    {
      "cell_type": "code",
      "metadata": {
        "colab": {
          "base_uri": "https://localhost:8080/",
          "height": 223
        },
        "id": "LD6PDAjCi0qO",
        "outputId": "6c2f663f-9344-44da-8283-49cf7ed8247e"
      },
      "source": [
        "new_dataset.tail()"
      ],
      "execution_count": 36,
      "outputs": [
        {
          "output_type": "execute_result",
          "data": {
            "text/html": [
              "<div>\n",
              "<style scoped>\n",
              "    .dataframe tbody tr th:only-of-type {\n",
              "        vertical-align: middle;\n",
              "    }\n",
              "\n",
              "    .dataframe tbody tr th {\n",
              "        vertical-align: top;\n",
              "    }\n",
              "\n",
              "    .dataframe thead th {\n",
              "        text-align: right;\n",
              "    }\n",
              "</style>\n",
              "<table border=\"1\" class=\"dataframe\">\n",
              "  <thead>\n",
              "    <tr style=\"text-align: right;\">\n",
              "      <th></th>\n",
              "      <th>Time</th>\n",
              "      <th>V1</th>\n",
              "      <th>V2</th>\n",
              "      <th>V3</th>\n",
              "      <th>V4</th>\n",
              "      <th>V5</th>\n",
              "      <th>V6</th>\n",
              "      <th>V7</th>\n",
              "      <th>V8</th>\n",
              "      <th>V9</th>\n",
              "      <th>V10</th>\n",
              "      <th>V11</th>\n",
              "      <th>V12</th>\n",
              "      <th>V13</th>\n",
              "      <th>V14</th>\n",
              "      <th>V15</th>\n",
              "      <th>V16</th>\n",
              "      <th>V17</th>\n",
              "      <th>V18</th>\n",
              "      <th>V19</th>\n",
              "      <th>V20</th>\n",
              "      <th>V21</th>\n",
              "      <th>V22</th>\n",
              "      <th>V23</th>\n",
              "      <th>V24</th>\n",
              "      <th>V25</th>\n",
              "      <th>V26</th>\n",
              "      <th>V27</th>\n",
              "      <th>V28</th>\n",
              "      <th>Amount</th>\n",
              "      <th>Class</th>\n",
              "    </tr>\n",
              "  </thead>\n",
              "  <tbody>\n",
              "    <tr>\n",
              "      <th>39183</th>\n",
              "      <td>39729</td>\n",
              "      <td>-0.964567</td>\n",
              "      <td>-1.643541</td>\n",
              "      <td>-0.187727</td>\n",
              "      <td>1.158253</td>\n",
              "      <td>-2.458336</td>\n",
              "      <td>0.852222</td>\n",
              "      <td>2.785163</td>\n",
              "      <td>-0.303609</td>\n",
              "      <td>0.940006</td>\n",
              "      <td>-1.965309</td>\n",
              "      <td>0.159744</td>\n",
              "      <td>-0.490697</td>\n",
              "      <td>-1.181977</td>\n",
              "      <td>-1.958876</td>\n",
              "      <td>1.152743</td>\n",
              "      <td>-1.341269</td>\n",
              "      <td>2.498325</td>\n",
              "      <td>0.777831</td>\n",
              "      <td>1.406045</td>\n",
              "      <td>1.784449</td>\n",
              "      <td>0.447180</td>\n",
              "      <td>0.536204</td>\n",
              "      <td>1.634061</td>\n",
              "      <td>0.203839</td>\n",
              "      <td>0.218749</td>\n",
              "      <td>-0.221886</td>\n",
              "      <td>-0.308555</td>\n",
              "      <td>-0.164500</td>\n",
              "      <td>776.83</td>\n",
              "      <td>1.0</td>\n",
              "    </tr>\n",
              "    <tr>\n",
              "      <th>40085</th>\n",
              "      <td>40086</td>\n",
              "      <td>1.083693</td>\n",
              "      <td>1.179501</td>\n",
              "      <td>-1.346150</td>\n",
              "      <td>1.998824</td>\n",
              "      <td>0.818034</td>\n",
              "      <td>-0.771419</td>\n",
              "      <td>0.230307</td>\n",
              "      <td>0.093683</td>\n",
              "      <td>-0.167594</td>\n",
              "      <td>-1.959809</td>\n",
              "      <td>2.804335</td>\n",
              "      <td>0.312424</td>\n",
              "      <td>-0.595976</td>\n",
              "      <td>-4.662577</td>\n",
              "      <td>-0.299515</td>\n",
              "      <td>1.001414</td>\n",
              "      <td>3.902825</td>\n",
              "      <td>1.619609</td>\n",
              "      <td>-0.888087</td>\n",
              "      <td>-0.060159</td>\n",
              "      <td>-0.312000</td>\n",
              "      <td>-0.639700</td>\n",
              "      <td>-0.120249</td>\n",
              "      <td>-0.180218</td>\n",
              "      <td>0.609283</td>\n",
              "      <td>-0.339524</td>\n",
              "      <td>0.096701</td>\n",
              "      <td>0.114972</td>\n",
              "      <td>1.00</td>\n",
              "      <td>1.0</td>\n",
              "    </tr>\n",
              "    <tr>\n",
              "      <th>40525</th>\n",
              "      <td>40276</td>\n",
              "      <td>1.159373</td>\n",
              "      <td>2.844795</td>\n",
              "      <td>-4.050680</td>\n",
              "      <td>4.777701</td>\n",
              "      <td>2.948980</td>\n",
              "      <td>-2.010361</td>\n",
              "      <td>1.744086</td>\n",
              "      <td>-0.410287</td>\n",
              "      <td>-2.450198</td>\n",
              "      <td>-2.042168</td>\n",
              "      <td>1.844093</td>\n",
              "      <td>-2.425933</td>\n",
              "      <td>-1.584275</td>\n",
              "      <td>-7.208312</td>\n",
              "      <td>0.459828</td>\n",
              "      <td>2.375296</td>\n",
              "      <td>6.443510</td>\n",
              "      <td>2.591846</td>\n",
              "      <td>-2.889770</td>\n",
              "      <td>-0.059264</td>\n",
              "      <td>-0.176541</td>\n",
              "      <td>-0.433470</td>\n",
              "      <td>-0.529323</td>\n",
              "      <td>-0.597020</td>\n",
              "      <td>1.335954</td>\n",
              "      <td>0.547092</td>\n",
              "      <td>0.009979</td>\n",
              "      <td>0.160769</td>\n",
              "      <td>1.00</td>\n",
              "      <td>1.0</td>\n",
              "    </tr>\n",
              "    <tr>\n",
              "      <th>41395</th>\n",
              "      <td>40662</td>\n",
              "      <td>-4.446847</td>\n",
              "      <td>-0.014793</td>\n",
              "      <td>-5.126307</td>\n",
              "      <td>6.945130</td>\n",
              "      <td>5.269255</td>\n",
              "      <td>-4.297177</td>\n",
              "      <td>-2.591242</td>\n",
              "      <td>0.342671</td>\n",
              "      <td>-3.880663</td>\n",
              "      <td>-3.976525</td>\n",
              "      <td>5.730084</td>\n",
              "      <td>-5.031868</td>\n",
              "      <td>-1.135439</td>\n",
              "      <td>-10.787051</td>\n",
              "      <td>0.265456</td>\n",
              "      <td>-1.104217</td>\n",
              "      <td>0.636413</td>\n",
              "      <td>0.994101</td>\n",
              "      <td>-0.688721</td>\n",
              "      <td>-0.108006</td>\n",
              "      <td>0.247913</td>\n",
              "      <td>-0.049586</td>\n",
              "      <td>-0.226017</td>\n",
              "      <td>-0.401236</td>\n",
              "      <td>0.856124</td>\n",
              "      <td>0.661272</td>\n",
              "      <td>0.492560</td>\n",
              "      <td>0.971834</td>\n",
              "      <td>1.00</td>\n",
              "      <td>1.0</td>\n",
              "    </tr>\n",
              "    <tr>\n",
              "      <th>41569</th>\n",
              "      <td>40742</td>\n",
              "      <td>-2.377533</td>\n",
              "      <td>0.520539</td>\n",
              "      <td>-8.094139</td>\n",
              "      <td>8.005351</td>\n",
              "      <td>2.640750</td>\n",
              "      <td>-3.381586</td>\n",
              "      <td>-1.934372</td>\n",
              "      <td>0.562322</td>\n",
              "      <td>-3.104027</td>\n",
              "      <td>-3.051210</td>\n",
              "      <td>5.735763</td>\n",
              "      <td>-4.747693</td>\n",
              "      <td>-0.784223</td>\n",
              "      <td>-10.716339</td>\n",
              "      <td>0.656517</td>\n",
              "      <td>-1.142467</td>\n",
              "      <td>0.918591</td>\n",
              "      <td>1.126335</td>\n",
              "      <td>0.092973</td>\n",
              "      <td>-0.634747</td>\n",
              "      <td>0.148284</td>\n",
              "      <td>0.721100</td>\n",
              "      <td>2.661291</td>\n",
              "      <td>-0.508620</td>\n",
              "      <td>-0.401657</td>\n",
              "      <td>0.587611</td>\n",
              "      <td>0.500326</td>\n",
              "      <td>0.551760</td>\n",
              "      <td>1.00</td>\n",
              "      <td>1.0</td>\n",
              "    </tr>\n",
              "  </tbody>\n",
              "</table>\n",
              "</div>"
            ],
            "text/plain": [
              "        Time        V1        V2        V3  ...       V27       V28  Amount  Class\n",
              "39183  39729 -0.964567 -1.643541 -0.187727  ... -0.308555 -0.164500  776.83    1.0\n",
              "40085  40086  1.083693  1.179501 -1.346150  ...  0.096701  0.114972    1.00    1.0\n",
              "40525  40276  1.159373  2.844795 -4.050680  ...  0.009979  0.160769    1.00    1.0\n",
              "41395  40662 -4.446847 -0.014793 -5.126307  ...  0.492560  0.971834    1.00    1.0\n",
              "41569  40742 -2.377533  0.520539 -8.094139  ...  0.500326  0.551760    1.00    1.0\n",
              "\n",
              "[5 rows x 31 columns]"
            ]
          },
          "metadata": {},
          "execution_count": 36
        }
      ]
    },
    {
      "cell_type": "code",
      "metadata": {
        "colab": {
          "base_uri": "https://localhost:8080/",
          "height": 0
        },
        "id": "JU_DvohUi24O",
        "outputId": "b60b7a6e-7795-4935-8b98-eeabcb277c91"
      },
      "source": [
        "new_dataset['Class'].value_counts()"
      ],
      "execution_count": 37,
      "outputs": [
        {
          "output_type": "execute_result",
          "data": {
            "text/plain": [
              "0.0    500\n",
              "1.0    108\n",
              "Name: Class, dtype: int64"
            ]
          },
          "metadata": {},
          "execution_count": 37
        }
      ]
    },
    {
      "cell_type": "code",
      "metadata": {
        "colab": {
          "base_uri": "https://localhost:8080/",
          "height": 161
        },
        "id": "Avumdj7mi5dM",
        "outputId": "5c261eab-aa4f-490a-914f-dc3117777852"
      },
      "source": [
        "new_dataset.groupby('Class').mean()"
      ],
      "execution_count": 38,
      "outputs": [
        {
          "output_type": "execute_result",
          "data": {
            "text/html": [
              "<div>\n",
              "<style scoped>\n",
              "    .dataframe tbody tr th:only-of-type {\n",
              "        vertical-align: middle;\n",
              "    }\n",
              "\n",
              "    .dataframe tbody tr th {\n",
              "        vertical-align: top;\n",
              "    }\n",
              "\n",
              "    .dataframe thead th {\n",
              "        text-align: right;\n",
              "    }\n",
              "</style>\n",
              "<table border=\"1\" class=\"dataframe\">\n",
              "  <thead>\n",
              "    <tr style=\"text-align: right;\">\n",
              "      <th></th>\n",
              "      <th>Time</th>\n",
              "      <th>V1</th>\n",
              "      <th>V2</th>\n",
              "      <th>V3</th>\n",
              "      <th>V4</th>\n",
              "      <th>V5</th>\n",
              "      <th>V6</th>\n",
              "      <th>V7</th>\n",
              "      <th>V8</th>\n",
              "      <th>V9</th>\n",
              "      <th>V10</th>\n",
              "      <th>V11</th>\n",
              "      <th>V12</th>\n",
              "      <th>V13</th>\n",
              "      <th>V14</th>\n",
              "      <th>V15</th>\n",
              "      <th>V16</th>\n",
              "      <th>V17</th>\n",
              "      <th>V18</th>\n",
              "      <th>V19</th>\n",
              "      <th>V20</th>\n",
              "      <th>V21</th>\n",
              "      <th>V22</th>\n",
              "      <th>V23</th>\n",
              "      <th>V24</th>\n",
              "      <th>V25</th>\n",
              "      <th>V26</th>\n",
              "      <th>V27</th>\n",
              "      <th>V28</th>\n",
              "      <th>Amount</th>\n",
              "    </tr>\n",
              "    <tr>\n",
              "      <th>Class</th>\n",
              "      <th></th>\n",
              "      <th></th>\n",
              "      <th></th>\n",
              "      <th></th>\n",
              "      <th></th>\n",
              "      <th></th>\n",
              "      <th></th>\n",
              "      <th></th>\n",
              "      <th></th>\n",
              "      <th></th>\n",
              "      <th></th>\n",
              "      <th></th>\n",
              "      <th></th>\n",
              "      <th></th>\n",
              "      <th></th>\n",
              "      <th></th>\n",
              "      <th></th>\n",
              "      <th></th>\n",
              "      <th></th>\n",
              "      <th></th>\n",
              "      <th></th>\n",
              "      <th></th>\n",
              "      <th></th>\n",
              "      <th></th>\n",
              "      <th></th>\n",
              "      <th></th>\n",
              "      <th></th>\n",
              "      <th></th>\n",
              "      <th></th>\n",
              "      <th></th>\n",
              "    </tr>\n",
              "  </thead>\n",
              "  <tbody>\n",
              "    <tr>\n",
              "      <th>0.0</th>\n",
              "      <td>27409.098000</td>\n",
              "      <td>-0.219143</td>\n",
              "      <td>0.122084</td>\n",
              "      <td>0.750977</td>\n",
              "      <td>0.214469</td>\n",
              "      <td>-0.221379</td>\n",
              "      <td>0.059266</td>\n",
              "      <td>-0.085213</td>\n",
              "      <td>-0.088360</td>\n",
              "      <td>0.204866</td>\n",
              "      <td>-0.124652</td>\n",
              "      <td>0.366052</td>\n",
              "      <td>-0.381235</td>\n",
              "      <td>0.207314</td>\n",
              "      <td>0.268618</td>\n",
              "      <td>0.113625</td>\n",
              "      <td>0.005046</td>\n",
              "      <td>0.094567</td>\n",
              "      <td>-0.095785</td>\n",
              "      <td>0.000058</td>\n",
              "      <td>0.057060</td>\n",
              "      <td>-0.058170</td>\n",
              "      <td>-0.092834</td>\n",
              "      <td>-0.005588</td>\n",
              "      <td>-0.003291</td>\n",
              "      <td>0.147551</td>\n",
              "      <td>0.012063</td>\n",
              "      <td>-0.002181</td>\n",
              "      <td>0.004091</td>\n",
              "      <td>79.572680</td>\n",
              "    </tr>\n",
              "    <tr>\n",
              "      <th>1.0</th>\n",
              "      <td>21414.990741</td>\n",
              "      <td>-7.454643</td>\n",
              "      <td>5.595067</td>\n",
              "      <td>-10.624060</td>\n",
              "      <td>5.849772</td>\n",
              "      <td>-5.115950</td>\n",
              "      <td>-2.288288</td>\n",
              "      <td>-7.382457</td>\n",
              "      <td>3.691487</td>\n",
              "      <td>-2.904887</td>\n",
              "      <td>-6.511032</td>\n",
              "      <td>5.397581</td>\n",
              "      <td>-8.129950</td>\n",
              "      <td>0.345852</td>\n",
              "      <td>-8.295162</td>\n",
              "      <td>-0.007414</td>\n",
              "      <td>-4.722107</td>\n",
              "      <td>-7.554117</td>\n",
              "      <td>-2.667420</td>\n",
              "      <td>0.428298</td>\n",
              "      <td>0.630658</td>\n",
              "      <td>0.602725</td>\n",
              "      <td>-0.336878</td>\n",
              "      <td>-0.313708</td>\n",
              "      <td>-0.237598</td>\n",
              "      <td>0.310378</td>\n",
              "      <td>0.183470</td>\n",
              "      <td>0.791559</td>\n",
              "      <td>0.112874</td>\n",
              "      <td>93.512593</td>\n",
              "    </tr>\n",
              "  </tbody>\n",
              "</table>\n",
              "</div>"
            ],
            "text/plain": [
              "               Time        V1        V2  ...       V27       V28     Amount\n",
              "Class                                    ...                               \n",
              "0.0    27409.098000 -0.219143  0.122084  ... -0.002181  0.004091  79.572680\n",
              "1.0    21414.990741 -7.454643  5.595067  ...  0.791559  0.112874  93.512593\n",
              "\n",
              "[2 rows x 30 columns]"
            ]
          },
          "metadata": {},
          "execution_count": 38
        }
      ]
    },
    {
      "cell_type": "markdown",
      "metadata": {
        "id": "5iwwG3xcmK1w"
      },
      "source": [
        "Splitting the data into Features & Targets"
      ]
    },
    {
      "cell_type": "code",
      "metadata": {
        "id": "f4FnjbSLi8Pu"
      },
      "source": [
        "X = new_dataset.drop(columns='Class', axis=1)\n",
        "Y = new_dataset['Class']"
      ],
      "execution_count": 39,
      "outputs": []
    },
    {
      "cell_type": "code",
      "metadata": {
        "colab": {
          "base_uri": "https://localhost:8080/",
          "height": 0
        },
        "id": "HZyxddq-i-_P",
        "outputId": "812201d8-f523-4513-9a96-aaca6d616eab"
      },
      "source": [
        "print(X)"
      ],
      "execution_count": 40,
      "outputs": [
        {
          "output_type": "stream",
          "name": "stdout",
          "text": [
            "        Time        V1        V2  ...       V27       V28   Amount\n",
            "30244  35838  1.181768  0.221370  ...  0.018115 -0.004768     1.00\n",
            "14919  26214 -3.543764 -2.415426  ... -0.395121  0.439855   198.00\n",
            "24618  33304 -0.402585  0.863226  ...  0.253804 -0.025893    33.30\n",
            "4951    4498 -2.922120 -0.266165  ... -0.031512 -0.539735    96.96\n",
            "34049  37491 -4.277853 -6.755229  ... -0.532888  0.403027  2425.35\n",
            "...      ...       ...       ...  ...       ...       ...      ...\n",
            "39183  39729 -0.964567 -1.643541  ... -0.308555 -0.164500   776.83\n",
            "40085  40086  1.083693  1.179501  ...  0.096701  0.114972     1.00\n",
            "40525  40276  1.159373  2.844795  ...  0.009979  0.160769     1.00\n",
            "41395  40662 -4.446847 -0.014793  ...  0.492560  0.971834     1.00\n",
            "41569  40742 -2.377533  0.520539  ...  0.500326  0.551760     1.00\n",
            "\n",
            "[608 rows x 30 columns]\n"
          ]
        }
      ]
    },
    {
      "cell_type": "code",
      "metadata": {
        "colab": {
          "base_uri": "https://localhost:8080/",
          "height": 0
        },
        "id": "ehKPy_PXjBQU",
        "outputId": "ea2bf737-28a4-475d-aae6-92cf1432ec14"
      },
      "source": [
        "print(Y)"
      ],
      "execution_count": 42,
      "outputs": [
        {
          "output_type": "stream",
          "name": "stdout",
          "text": [
            "30244    0.0\n",
            "14919    0.0\n",
            "24618    0.0\n",
            "4951     0.0\n",
            "34049    0.0\n",
            "        ... \n",
            "39183    1.0\n",
            "40085    1.0\n",
            "40525    1.0\n",
            "41395    1.0\n",
            "41569    1.0\n",
            "Name: Class, Length: 608, dtype: float64\n"
          ]
        }
      ]
    },
    {
      "cell_type": "markdown",
      "metadata": {
        "id": "HWmAt-1mmTtz"
      },
      "source": [
        "Split the data into Training data & Testing Data"
      ]
    },
    {
      "cell_type": "code",
      "metadata": {
        "id": "h77PMn8wjDzi"
      },
      "source": [
        "X_train, X_test, Y_train, Y_test = train_test_split(X, Y, test_size=0.2, stratify=Y, random_state=2)"
      ],
      "execution_count": 43,
      "outputs": []
    },
    {
      "cell_type": "code",
      "metadata": {
        "colab": {
          "base_uri": "https://localhost:8080/",
          "height": 0
        },
        "id": "uapbOMxkjGX6",
        "outputId": "13d4ba0b-1fbd-40cd-9e94-fbd2d92e1457"
      },
      "source": [
        "print(X.shape, X_train.shape, X_test.shape)"
      ],
      "execution_count": 44,
      "outputs": [
        {
          "output_type": "stream",
          "name": "stdout",
          "text": [
            "(608, 30) (486, 30) (122, 30)\n"
          ]
        }
      ]
    },
    {
      "cell_type": "markdown",
      "metadata": {
        "id": "WpVQpphTmgOI"
      },
      "source": [
        "Training the model using Logistic Regression"
      ]
    },
    {
      "cell_type": "code",
      "metadata": {
        "id": "Z4lA07s9jIVj"
      },
      "source": [
        "model = LogisticRegression()"
      ],
      "execution_count": 45,
      "outputs": []
    },
    {
      "cell_type": "code",
      "metadata": {
        "colab": {
          "base_uri": "https://localhost:8080/",
          "height": 0
        },
        "id": "xHYlk_I8jKVZ",
        "outputId": "f7b986e6-a19f-4f0d-91ff-5ef6c5dd4da5"
      },
      "source": [
        "# training the Logistic Regression Model with Training Data\n",
        "model.fit(X_train, Y_train)"
      ],
      "execution_count": 46,
      "outputs": [
        {
          "output_type": "stream",
          "name": "stderr",
          "text": [
            "/usr/local/lib/python3.7/dist-packages/sklearn/linear_model/_logistic.py:940: ConvergenceWarning: lbfgs failed to converge (status=1):\n",
            "STOP: TOTAL NO. of ITERATIONS REACHED LIMIT.\n",
            "\n",
            "Increase the number of iterations (max_iter) or scale the data as shown in:\n",
            "    https://scikit-learn.org/stable/modules/preprocessing.html\n",
            "Please also refer to the documentation for alternative solver options:\n",
            "    https://scikit-learn.org/stable/modules/linear_model.html#logistic-regression\n",
            "  extra_warning_msg=_LOGISTIC_SOLVER_CONVERGENCE_MSG)\n"
          ]
        },
        {
          "output_type": "execute_result",
          "data": {
            "text/plain": [
              "LogisticRegression(C=1.0, class_weight=None, dual=False, fit_intercept=True,\n",
              "                   intercept_scaling=1, l1_ratio=None, max_iter=100,\n",
              "                   multi_class='auto', n_jobs=None, penalty='l2',\n",
              "                   random_state=None, solver='lbfgs', tol=0.0001, verbose=0,\n",
              "                   warm_start=False)"
            ]
          },
          "metadata": {},
          "execution_count": 46
        }
      ]
    },
    {
      "cell_type": "markdown",
      "metadata": {
        "id": "xplsUtEOmxti"
      },
      "source": [
        "Model Evaluation"
      ]
    },
    {
      "cell_type": "code",
      "metadata": {
        "id": "xWXwXZJpjMQM"
      },
      "source": [
        "# accuracy on training data\n",
        "X_train_prediction = model.predict(X_train)\n",
        "training_data_accuracy = accuracy_score(X_train_prediction, Y_train)"
      ],
      "execution_count": 47,
      "outputs": []
    },
    {
      "cell_type": "markdown",
      "metadata": {
        "id": "iEAmgW36my15"
      },
      "source": [
        "Projection of accuracy score"
      ]
    },
    {
      "cell_type": "code",
      "metadata": {
        "colab": {
          "base_uri": "https://localhost:8080/"
        },
        "id": "sqy_MVacjRPj",
        "outputId": "2169271b-b4f8-414e-8825-bd9fbc9370fa"
      },
      "source": [
        "print('Accuracy on Training data : ', training_data_accuracy)"
      ],
      "execution_count": 51,
      "outputs": [
        {
          "output_type": "stream",
          "name": "stdout",
          "text": [
            "Accuracy on Training data :  0.9794238683127572\n"
          ]
        }
      ]
    },
    {
      "cell_type": "code",
      "metadata": {
        "id": "OG9hT2QVjUDu"
      },
      "source": [
        "# accuracy on test data\n",
        "X_test_prediction = model.predict(X_test)\n",
        "test_data_accuracy = accuracy_score(X_test_prediction, Y_test)"
      ],
      "execution_count": 52,
      "outputs": []
    },
    {
      "cell_type": "code",
      "metadata": {
        "colab": {
          "base_uri": "https://localhost:8080/"
        },
        "id": "mBiOyoz4jW0C",
        "outputId": "17e79cd6-f974-4f9a-ee38-9402fb66b7b1"
      },
      "source": [
        "print('Accuracy score on Test Data : ', test_data_accuracy)"
      ],
      "execution_count": 53,
      "outputs": [
        {
          "output_type": "stream",
          "name": "stdout",
          "text": [
            "Accuracy score on Test Data :  0.9508196721311475\n"
          ]
        }
      ]
    }
  ]
}